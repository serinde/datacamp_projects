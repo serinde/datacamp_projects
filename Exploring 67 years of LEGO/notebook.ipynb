{
 "cells": [
  {
   "cell_type": "markdown",
   "metadata": {
    "dc": {
     "key": "1d0b086e6c"
    },
    "deletable": false,
    "editable": false,
    "run_control": {
     "frozen": true
    },
    "tags": [
     "context"
    ]
   },
   "source": [
    "## 1. Introduction\n",
    "<p>Everyone loves Lego (unless you ever stepped on one). Did you know by the way that \"Lego\" was derived from the Danish phrase leg godt, which means \"play well\"? Unless you speak Danish, probably not. </p>\n",
    "<p>In this project, we will analyze a fascinating dataset on every single lego block that has ever been built!</p>"
   ]
  },
  {
   "cell_type": "code",
   "execution_count": 17,
   "metadata": {
    "collapsed": true,
    "dc": {
     "key": "1d0b086e6c"
    },
    "tags": [
     "sample_code"
    ]
   },
   "outputs": [],
   "source": [
    "# Nothing to do here"
   ]
  },
  {
   "cell_type": "markdown",
   "metadata": {
    "dc": {
     "key": "044b2cef41"
    },
    "deletable": false,
    "editable": false,
    "run_control": {
     "frozen": true
    },
    "tags": [
     "context"
    ]
   },
   "source": [
    "## 2. Reading Data\n",
    "<p>A comprehensive database of lego blocks is provided by <a href=\"https://rebrickable.com/downloads/\">Rebrickable</a>. \n",
    "<p>Let us start by reading in the colors data to get a sense of the diversity of lego sets!</p>"
   ]
  },
  {
   "cell_type": "code",
   "execution_count": 18,
   "metadata": {
    "collapsed": false,
    "dc": {
     "key": "044b2cef41"
    },
    "tags": [
     "sample_code"
    ]
   },
   "outputs": [
    {
     "data": {
      "text/html": [
       "<div>\n",
       "<table border=\"1\" class=\"dataframe\">\n",
       "  <thead>\n",
       "    <tr style=\"text-align: right;\">\n",
       "      <th></th>\n",
       "      <th>id</th>\n",
       "      <th>name</th>\n",
       "      <th>rgb</th>\n",
       "      <th>is_trans</th>\n",
       "    </tr>\n",
       "  </thead>\n",
       "  <tbody>\n",
       "    <tr>\n",
       "      <th>0</th>\n",
       "      <td>-1</td>\n",
       "      <td>Unknown</td>\n",
       "      <td>0033B2</td>\n",
       "      <td>f</td>\n",
       "    </tr>\n",
       "    <tr>\n",
       "      <th>1</th>\n",
       "      <td>0</td>\n",
       "      <td>Black</td>\n",
       "      <td>05131D</td>\n",
       "      <td>f</td>\n",
       "    </tr>\n",
       "    <tr>\n",
       "      <th>2</th>\n",
       "      <td>1</td>\n",
       "      <td>Blue</td>\n",
       "      <td>0055BF</td>\n",
       "      <td>f</td>\n",
       "    </tr>\n",
       "    <tr>\n",
       "      <th>3</th>\n",
       "      <td>2</td>\n",
       "      <td>Green</td>\n",
       "      <td>237841</td>\n",
       "      <td>f</td>\n",
       "    </tr>\n",
       "    <tr>\n",
       "      <th>4</th>\n",
       "      <td>3</td>\n",
       "      <td>Dark Turquoise</td>\n",
       "      <td>008F9B</td>\n",
       "      <td>f</td>\n",
       "    </tr>\n",
       "  </tbody>\n",
       "</table>\n",
       "</div>"
      ],
      "text/plain": [
       "   id            name     rgb is_trans\n",
       "0  -1         Unknown  0033B2        f\n",
       "1   0           Black  05131D        f\n",
       "2   1            Blue  0055BF        f\n",
       "3   2           Green  237841        f\n",
       "4   3  Dark Turquoise  008F9B        f"
      ]
     },
     "execution_count": 18,
     "metadata": {},
     "output_type": "execute_result"
    }
   ],
   "source": [
    "# Import modules\n",
    "import pandas as pd\n",
    "\n",
    "# Read colors data\n",
    "colors = pd.read_csv('datasets/colors.csv')\n",
    "\n",
    "# Print the first few rows\n",
    "colors.head()"
   ]
  },
  {
   "cell_type": "markdown",
   "metadata": {
    "dc": {
     "key": "15c1e2ce38"
    },
    "deletable": false,
    "editable": false,
    "run_control": {
     "frozen": true
    },
    "tags": [
     "context"
    ]
   },
   "source": [
    "## 3. Exploring Colors\n",
    "<p>Now that we have read the <code>colors</code> data, we can start exploring it! Let us start by understanding the number of colors available.</p>"
   ]
  },
  {
   "cell_type": "code",
   "execution_count": 19,
   "metadata": {
    "collapsed": false,
    "dc": {
     "key": "15c1e2ce38"
    },
    "tags": [
     "sample_code"
    ]
   },
   "outputs": [
    {
     "name": "stdout",
     "output_type": "stream",
     "text": [
      "135\n"
     ]
    }
   ],
   "source": [
    "# How many distinct colors are available?\n",
    "# -- YOUR CODE FOR TASK 3 --\n",
    "num_colors = colors[\"name\"].nunique()\n",
    "print(num_colors)"
   ]
  },
  {
   "cell_type": "markdown",
   "metadata": {
    "dc": {
     "key": "a5723ae5c2"
    },
    "deletable": false,
    "editable": false,
    "run_control": {
     "frozen": true
    },
    "tags": [
     "context"
    ]
   },
   "source": [
    "## 4. Transparent Colors in Lego Sets\n",
    "<p>The <code>colors</code> data has a column named <code>is_trans</code> that indicates whether a color is transparent or not. It would be interesting to explore the distribution of transparent vs. non-transparent colors.</p>"
   ]
  },
  {
   "cell_type": "code",
   "execution_count": 20,
   "metadata": {
    "collapsed": false,
    "dc": {
     "key": "a5723ae5c2"
    },
    "tags": [
     "sample_code"
    ]
   },
   "outputs": [
    {
     "name": "stdout",
     "output_type": "stream",
     "text": [
      "           id  name  rgb\n",
      "is_trans                \n",
      "f         107   107  107\n",
      "t          28    28   28\n"
     ]
    }
   ],
   "source": [
    "# colors_summary: Distribution of colors based on transparency\n",
    "# -- YOUR CODE FOR TASK 4 --\n",
    "colors_summary = colors.groupby(\"is_trans\").count()\n",
    "print(colors_summary)"
   ]
  },
  {
   "cell_type": "markdown",
   "metadata": {
    "dc": {
     "key": "c9d0e58653"
    },
    "deletable": false,
    "editable": false,
    "tags": [
     "context"
    ]
   },
   "source": [
    "## 5. Explore Lego Sets\n",
    "<p>Another interesting dataset available in this database is the <code>sets</code> data. It contains a comprehensive list of sets over the years and the number of parts that each of these sets contained. </p>\n",
    "\n",
    "<p>Let us use this data to explore how the average number of parts in Lego sets has varied over the years.</p>"
   ]
  },
  {
   "cell_type": "code",
   "execution_count": 21,
   "metadata": {
    "collapsed": false,
    "dc": {
     "key": "c9d0e58653"
    },
    "tags": [
     "sample_code"
    ]
   },
   "outputs": [
    {
     "data": {
      "image/png": "[encoded data removed]",
      "text/plain": [
       "<matplotlib.figure.Figure at 0xb789828>"
      ]
     },
     "metadata": {},
     "output_type": "display_data"
    }
   ],
   "source": [
    "%matplotlib inline\n",
    "# Read sets data as `sets`\n",
    "sets = pd.read_csv(\"datasets/sets.csv\")\n",
    "# Create a summary of average number of parts by year: `parts_by_year`\n",
    "parts_by_year = sets.groupby(\"year\")[\"num_parts\"].mean()\n",
    "# Plot trends in average number of parts by year\n",
    "import matplotlib.pyplot as plt\n",
    "parts_by_year.plot(title=\"Average Number of Parts by Year\")\n",
    "plt.show()\n"
   ]
  },
  {
   "cell_type": "markdown",
   "metadata": {
    "dc": {
     "key": "266a3f390c"
    },
    "deletable": false,
    "editable": false,
    "run_control": {
     "frozen": true
    },
    "tags": [
     "context"
    ]
   },
   "source": [
    "## 6. Lego Themes Over Years\n",
    "<p>Lego blocks ship under multiple <a href=\"https://shop.lego.com/en-US/Themes\">themes</a>. Let us try to get a sense of how the number of themes shipped has varied over the years.</p>"
   ]
  },
  {
   "cell_type": "code",
   "execution_count": 22,
   "metadata": {
    "collapsed": false,
    "dc": {
     "key": "266a3f390c"
    },
    "tags": [
     "sample_code"
    ]
   },
   "outputs": [
    {
     "data": {
      "text/html": [
       "<div>\n",
       "<table border=\"1\" class=\"dataframe\">\n",
       "  <thead>\n",
       "    <tr style=\"text-align: right;\">\n",
       "      <th></th>\n",
       "      <th>year</th>\n",
       "      <th>theme_id</th>\n",
       "    </tr>\n",
       "  </thead>\n",
       "  <tbody>\n",
       "    <tr>\n",
       "      <th>0</th>\n",
       "      <td>1950</td>\n",
       "      <td>2</td>\n",
       "    </tr>\n",
       "    <tr>\n",
       "      <th>1</th>\n",
       "      <td>1953</td>\n",
       "      <td>1</td>\n",
       "    </tr>\n",
       "    <tr>\n",
       "      <th>2</th>\n",
       "      <td>1954</td>\n",
       "      <td>2</td>\n",
       "    </tr>\n",
       "    <tr>\n",
       "      <th>3</th>\n",
       "      <td>1955</td>\n",
       "      <td>4</td>\n",
       "    </tr>\n",
       "    <tr>\n",
       "      <th>4</th>\n",
       "      <td>1956</td>\n",
       "      <td>3</td>\n",
       "    </tr>\n",
       "  </tbody>\n",
       "</table>\n",
       "</div>"
      ],
      "text/plain": [
       "   year  theme_id\n",
       "0  1950         2\n",
       "1  1953         1\n",
       "2  1954         2\n",
       "3  1955         4\n",
       "4  1956         3"
      ]
     },
     "execution_count": 22,
     "metadata": {},
     "output_type": "execute_result"
    }
   ],
   "source": [
    "# themes_by_year: Number of themes shipped by year\n",
    "# -- YOUR CODE HERE --\n",
    "#themes_by_year1 = sets.groupby(\"year\").nunique()\n",
    "#themes_by_year1.head()\n",
    "themes_by_year = sets[[\"year\", \"theme_id\"]].groupby(\"year\", as_index=False).agg({\"theme_id\": pd.Series.nunique})\n",
    "themes_by_year.head()"
   ]
  },
  {
   "cell_type": "markdown",
   "metadata": {
    "dc": {
     "key": "a293e5076e"
    },
    "deletable": false,
    "editable": false,
    "run_control": {
     "frozen": true
    },
    "tags": [
     "context"
    ]
   },
   "source": [
    "## 7. Wrapping It All Up!\n",
    "<p>Lego blocks offer an unlimited amount of fun across ages. We explored some interesting trends around colors, parts, and themes. </p>"
   ]
  },
  {
   "cell_type": "code",
   "execution_count": 23,
   "metadata": {
    "collapsed": false,
    "dc": {
     "key": "a293e5076e"
    },
    "tags": [
     "sample_code"
    ]
   },
   "outputs": [
    {
     "name": "stdout",
     "output_type": "stream",
     "text": [
      "             set_num                                               name  year  \\\n",
      "0               00-1                                    Weetabix Castle  1970   \n",
      "1             0011-2                                  Town Mini-Figures  1978   \n",
      "2             0011-3                         Castle 2 for 1 Bonus Offer  1987   \n",
      "3             0012-1                                 Space Mini-Figures  1979   \n",
      "4             0013-1                                 Space Mini-Figures  1979   \n",
      "5             0014-1                                 Space Mini-Figures  1979   \n",
      "6             0015-1                                 Space Mini-Figures  1979   \n",
      "7             0016-1                                Castle Mini Figures  1978   \n",
      "8               00-2                       Weetabix Promotional House 1  1976   \n",
      "9               00-3                       Weetabix Promotional House 2  1976   \n",
      "10              00-4                      Weetabix Promotional Windmill  1976   \n",
      "11             005-1                    Basic Building Set in Cardboard  1965   \n",
      "12              00-6                                      Special Offer  1985   \n",
      "13              00-7                  Weetabix Promotional Lego Village  1976   \n",
      "14             010-1                    Basic Building Set in Cardboard  1965   \n",
      "15             010-3                                 Basic Building Set  1968   \n",
      "16             011-1                                 Basic Building Set  1968   \n",
      "17             022-1                                 Basic Building Set  1968   \n",
      "18           03093-1                    The Race to Build It Board Game  1999   \n",
      "19             033-2                                 Basic Building Set  1968   \n",
      "20             044-1                                 Basic Building Set  1968   \n",
      "21             055-2                                 Basic Building Set  1968   \n",
      "22             066-1                                 Basic Building Set  1968   \n",
      "23             080-1                      Basic Building Set with Train  1967   \n",
      "24             088-1                                          Super Set  1969   \n",
      "25           10000-1                                        Guarded Inn  2001   \n",
      "26           10001-1                                         Metroliner  2001   \n",
      "27           10002-1                                  Railroad Club Car  2001   \n",
      "28           10003-1                              1 x 2 Sand Red Bricks  2001   \n",
      "29           10004-1                              2 x 2 Sand Red Bricks  2001   \n",
      "...              ...                                                ...   ...   \n",
      "11836  TRUXWINGTIE-1     TRU X-Wing Fighter & TIE Fighter (May 3, 2014)  2014   \n",
      "11837       tsuper-1                                  Technic Super Set  1991   \n",
      "11838    Vancouver-1  LEGO Store Grand Opening Exclusive Set, Oakrid...  2012   \n",
      "11839       Victor-1  LEGO Store Grand Opening Exclusive Set, Eastvi...  2012   \n",
      "11840       Vienna-1  LEGO Store Grand Opening Exclusive Set, SCS, W...  2013   \n",
      "11841           VP-1           Ice Planet Co-Pack of 6814 6879 and 6898  1995   \n",
      "11842          VP-10  Star Wars Value Pack with Free LEGO Backpack (...  2003   \n",
      "11843          VP-11            Star Wars Co-Pack of 7101 7111 and 7131  2000   \n",
      "11844          VP-12                 Star Wars Co-Pack of 7121 and 7151  2000   \n",
      "11845          VP-13       Launch Command Value Pack - (6336 6516 6614)  1995   \n",
      "11846          VP-14        Classic Town Value Pack Duopack (6581 6596)  1998   \n",
      "11847          VP-15                       Adventurers Super Value Pack  2000   \n",
      "11848          VP-17                        Legoland Town Special Offer  1985   \n",
      "11849           VP-2                 Star Wars Co-Pack of 7110 and 7144  2001   \n",
      "11850           VP-3                 Star Wars Co-Pack of 7131 and 7151  2000   \n",
      "11851           VP-4            Star Wars Co-Pack of 7101 7111 and 7171  2000   \n",
      "11852           VP-5                                     UFO Value Pack  1997   \n",
      "11853           VP-6  Building Bonanza Value Pack 4886 with 7280 & 7281  2006   \n",
      "11854           VP-7                   Fire Value Pack (6554 6407 6564)  1997   \n",
      "11855           VP-8                 Star Wars Co-Pack of 7130 and 7150  2000   \n",
      "11856     VPorient-1  Orient Expedition Value Pack with LEGO Backpac...  2003   \n",
      "11857        vwkit-1                                     Volkswagen Kit  1959   \n",
      "11858         W098-1                            Watch Set, Classic Blue  2006   \n",
      "11859      W991526-1  Homeschool Introduction to Simple and Motorize...  2009   \n",
      "11860      Watford-1  LEGO Store Grand Opening Exclusive Set, Watfor...  2013   \n",
      "11861    Wauwatosa-1  LEGO Store Grand Opening Exclusive Set, Mayfai...  2012   \n",
      "11862   WHITEHOUSE-1                                  Micro White House  2015   \n",
      "11863    Wiesbaden-1  LEGO Store Grand Opening Exclusive Set, Wiesba...  2010   \n",
      "11864  WishingWell-1                     Wishing Well [Toys R Us Promo]  2013   \n",
      "11865        wwgp1-1                Wild West Limited Edition Gift Pack  1996   \n",
      "\n",
      "       theme_id  num_parts  \n",
      "0           414        471  \n",
      "1            84         12  \n",
      "2           199          2  \n",
      "3           143         12  \n",
      "4           143         12  \n",
      "5           143         12  \n",
      "6           143         18  \n",
      "7           186         15  \n",
      "8           413        147  \n",
      "9           413        149  \n",
      "10          413        126  \n",
      "11          366         35  \n",
      "12           67          3  \n",
      "13          413          3  \n",
      "14          366         57  \n",
      "15          366         77  \n",
      "16          366        145  \n",
      "17          366        110  \n",
      "18          502         70  \n",
      "19          366        177  \n",
      "20          366        225  \n",
      "21          366        256  \n",
      "22          366        407  \n",
      "23          366        710  \n",
      "24          469        615  \n",
      "25          186        256  \n",
      "26          233        785  \n",
      "27          233        272  \n",
      "28          254        100  \n",
      "29          254        100  \n",
      "...         ...        ...  \n",
      "11836       170          2  \n",
      "11837        12          3  \n",
      "11838       408         -1  \n",
      "11839       408         15  \n",
      "11840       408         17  \n",
      "11841       133          3  \n",
      "11842       170          4  \n",
      "11843       166          3  \n",
      "11844       166          2  \n",
      "11845        88          3  \n",
      "11846        67          2  \n",
      "11847       298          3  \n",
      "11848        67          0  \n",
      "11849       169          2  \n",
      "11850       166          2  \n",
      "11851       166          3  \n",
      "11852       144          3  \n",
      "11853        52          3  \n",
      "11854        98          3  \n",
      "11855       169          2  \n",
      "11856       300          4  \n",
      "11857       366         22  \n",
      "11858       501          0  \n",
      "11859       529          0  \n",
      "11860       408         15  \n",
      "11861       408         15  \n",
      "11862       598         59  \n",
      "11863       408        146  \n",
      "11864       494         28  \n",
      "11865       476          3  \n",
      "\n",
      "[11866 rows x 5 columns]\n"
     ]
    }
   ],
   "source": [
    "# Nothing to do here\n",
    "print(sets)\n"
   ]
  }
 ],
 "metadata": {
  "anaconda-cloud": {},
  "kernelspec": {
   "display_name": "Python [default]",
   "language": "python",
   "name": "python3"
  },
  "language_info": {
   "codemirror_mode": {
    "name": "ipython",
    "version": 3
   },
   "file_extension": ".py",
   "mimetype": "text/x-python",
   "name": "python",
   "nbconvert_exporter": "python",
   "pygments_lexer": "ipython3",
   "version": "3.5.2"
  }
 },
 "nbformat": 4,
 "nbformat_minor": 2
}
